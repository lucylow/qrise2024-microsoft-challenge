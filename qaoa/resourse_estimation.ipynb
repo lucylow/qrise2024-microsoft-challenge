{
 "cells": [
  {
   "cell_type": "markdown",
   "metadata": {},
   "source": [
    "# Notebook for resource estimation"
   ]
  },
  {
   "cell_type": "code",
   "execution_count": 6,
   "metadata": {},
   "outputs": [
    {
     "data": {
      "application/x.qsharp-config": "{\"targetProfile\":\"unrestricted\",\"languageFeatures\":[]}",
      "text/plain": [
       "Q# initialized with configuration: {'targetProfile': 'unrestricted', 'languageFeatures': []}"
      ]
     },
     "execution_count": 6,
     "metadata": {},
     "output_type": "execute_result"
    }
   ],
   "source": [
    "# This Notebook acts as a host for Q# to implement Quantum Approximate Optimization Algorithm (QAOA) on a gate-based Quantum Computing model.\n",
    "\n",
    "# Importing required libraries\n",
    "# General imports\n",
    "import time\n",
    "from numpy import pi\n",
    "import numpy as np\n",
    "import matplotlib.pyplot as plt\n",
    "\n",
    "# Qsharp\n",
    "import qsharp\n",
    "from qsharp.estimator import EstimatorParams\n",
    "\n",
    "from qaoa_pennylane import build_qubo\n",
    "\n",
    "qsharp.init(project_root = 'C:/Users/londh/qc/QRISE_QRE/qaoa')"
   ]
  },
  {
   "cell_type": "code",
   "execution_count": 7,
   "metadata": {},
   "outputs": [],
   "source": [
    "def arr_to_str(a: np.ndarray) -> str:\n",
    "    \"\"\"\n",
    "    Converts a given array to a string representation.\n",
    "\n",
    "    Args:\n",
    "        a (list): The array to be converted.\n",
    "\n",
    "    Returns:\n",
    "        str: The string representation of the array.\n",
    "\n",
    "    Example:\n",
    "        >>> arr_to_str([1, 2, 3])\n",
    "        '[1, 2, 3]'\n",
    "    \"\"\"\n",
    "    string =''\n",
    "    for i in a:\n",
    "        string += str(i) + \",\"\n",
    "    return '[' + string[:-1] + ']'"
   ]
  },
  {
   "cell_type": "code",
   "execution_count": 49,
   "metadata": {},
   "outputs": [],
   "source": [
    "# Preparing inputs for the Q# function.\n",
    "test_array_length = 3\n",
    "test_array = [1]*test_array_length\n",
    "\n",
    "n = len(test_array)\n",
    "layers = 3\n",
    "\n",
    "quadratics, linears, qubo = build_qubo(test_array)\n",
    "quadratics = quadratics.toarray().flatten()\n",
    "linears = linears.toarray()\n",
    "\n",
    "gammas = np.random.rand(layers)\n",
    "betas = np.random.rand(layers)\n",
    "\n",
    "input_str = f\"{n},{layers},{arr_to_str(gammas)},{arr_to_str(betas)},{arr_to_str(quadratics)},{arr_to_str(linears[0])}\"\n",
    "\n",
    "qsharp_string = f\"qaoa.circuit({input_str})\"\n"
   ]
  },
  {
   "cell_type": "code",
   "execution_count": 53,
   "metadata": {},
   "outputs": [],
   "source": [
    "params = EstimatorParams()"
   ]
  },
  {
   "cell_type": "code",
   "execution_count": 60,
   "metadata": {},
   "outputs": [],
   "source": [
    "qec_schemes = ['surface_code','floquet_code']"
   ]
  },
  {
   "cell_type": "code",
   "execution_count": 114,
   "metadata": {},
   "outputs": [],
   "source": [
    "results = []"
   ]
  },
  {
   "cell_type": "code",
   "execution_count": 115,
   "metadata": {},
   "outputs": [],
   "source": [
    "# Surface code - Gate Based\n",
    "params = EstimatorParams()\n",
    "params.qec_scheme.name = qec_schemes[0]\n",
    "result = qsharp.estimate(qsharp_string, params=params)\n",
    "results.append(result)"
   ]
  },
  {
   "cell_type": "code",
   "execution_count": 116,
   "metadata": {},
   "outputs": [
    {
     "ename": "Exception",
     "evalue": "Cannot access items in a non-batching job, call make_params with num_items parameter",
     "output_type": "error",
     "traceback": [
      "\u001b[1;31m---------------------------------------------------------------------------\u001b[0m",
      "\u001b[1;31mException\u001b[0m                                 Traceback (most recent call last)",
      "Cell \u001b[1;32mIn[116], line 11\u001b[0m\n\u001b[0;32m      7\u001b[0m params\u001b[38;5;241m.\u001b[39mqubit_params\u001b[38;5;241m.\u001b[39mt_gate_error_rate \u001b[38;5;241m=\u001b[39m \u001b[38;5;241m0.01\u001b[39m\n\u001b[0;32m      9\u001b[0m params\u001b[38;5;241m.\u001b[39mqec_scheme\u001b[38;5;241m.\u001b[39mname \u001b[38;5;241m=\u001b[39m qec_schemes[\u001b[38;5;241m0\u001b[39m]\n\u001b[1;32m---> 11\u001b[0m \u001b[43mparams\u001b[49m\u001b[38;5;241;43m.\u001b[39;49m\u001b[43mitems\u001b[49m\u001b[38;5;241m.\u001b[39merror_budget \u001b[38;5;241m=\u001b[39m \u001b[38;5;241m0.3\u001b[39m\n\u001b[0;32m     13\u001b[0m result \u001b[38;5;241m=\u001b[39m qsharp\u001b[38;5;241m.\u001b[39mestimate(qsharp_string, params\u001b[38;5;241m=\u001b[39mparams)\n\u001b[0;32m     14\u001b[0m results\u001b[38;5;241m.\u001b[39mappend(result)\n",
      "File \u001b[1;32md:\\Anaconda\\envs\\qrise_qsharp\\Lib\\site-packages\\qsharp\\estimator\\_estimator.py:499\u001b[0m, in \u001b[0;36mEstimatorParams.items\u001b[1;34m(self)\u001b[0m\n\u001b[0;32m    497\u001b[0m     \u001b[38;5;28;01mreturn\u001b[39;00m \u001b[38;5;28mself\u001b[39m\u001b[38;5;241m.\u001b[39m_items\n\u001b[0;32m    498\u001b[0m \u001b[38;5;28;01melse\u001b[39;00m:\n\u001b[1;32m--> 499\u001b[0m     \u001b[38;5;28;01mraise\u001b[39;00m \u001b[38;5;167;01mException\u001b[39;00m(\n\u001b[0;32m    500\u001b[0m         \u001b[38;5;124m\"\u001b[39m\u001b[38;5;124mCannot access items in a non-batching job, call \u001b[39m\u001b[38;5;124m\"\u001b[39m\n\u001b[0;32m    501\u001b[0m         \u001b[38;5;124m\"\u001b[39m\u001b[38;5;124mmake_params with num_items parameter\u001b[39m\u001b[38;5;124m\"\u001b[39m\n\u001b[0;32m    502\u001b[0m     )\n",
      "\u001b[1;31mException\u001b[0m: Cannot access items in a non-batching job, call make_params with num_items parameter"
     ]
    }
   ],
   "source": [
    "# Surface code - Gate Based\n",
    "params = EstimatorParams()\n",
    "\n",
    "params.qubit_params.instruction_set = 'Majorana'\n",
    "params.qubit_params.one_qubit_measurement_time = '10 ns'\n",
    "params.qubit_params.one_qubit_measurement_error_rate = 0.001\n",
    "params.qubit_params.t_gate_error_rate = 0.01\n",
    "\n",
    "params.qec_scheme.name = qec_schemes[0]\n",
    "\n",
    "params.items.error_budget = 0.3\n",
    "\n",
    "result = qsharp.estimate(qsharp_string, params=params)\n",
    "results.append(result)"
   ]
  },
  {
   "cell_type": "code",
   "execution_count": 117,
   "metadata": {},
   "outputs": [],
   "source": [
    "# Surface code - Gate Based\n",
    "params = EstimatorParams()\n",
    "\n",
    "params.qubit_params.instruction_set = 'Majorana'\n",
    "params.qubit_params.one_qubit_measurement_time = '10 ns'\n",
    "params.qubit_params.one_qubit_measurement_error_rate = 0.001\n",
    "params.qubit_params.t_gate_error_rate = 0.01\n",
    "\n",
    "params.qec_scheme.name = qec_schemes[1]\n",
    "\n",
    "# params.items.error_budget = 0.3\n",
    "\n",
    "result = qsharp.estimate(qsharp_string, params=params)\n",
    "results.append(result)"
   ]
  },
  {
   "cell_type": "code",
   "execution_count": 125,
   "metadata": {},
   "outputs": [
    {
     "data": {
      "text/plain": [
       "{'qecScheme': {'name': 'surface_code',\n",
       "  'errorCorrectionThreshold': 0.01,\n",
       "  'crossingPrefactor': 0.03,\n",
       "  'logicalCycleTime': '(4 * twoQubitGateTime + 2 * oneQubitMeasurementTime) * codeDistance',\n",
       "  'physicalQubitsPerLogicalQubit': '2 * codeDistance * codeDistance',\n",
       "  'maxCodeDistance': 50},\n",
       " 'errorBudget': 0.001,\n",
       " 'qubitParams': {'instructionSet': 'GateBased',\n",
       "  'name': 'qubit_gate_ns_e3',\n",
       "  'oneQubitMeasurementTime': '100 ns',\n",
       "  'oneQubitGateTime': '50 ns',\n",
       "  'twoQubitGateTime': '50 ns',\n",
       "  'tGateTime': '50 ns',\n",
       "  'oneQubitMeasurementErrorRate': 0.001,\n",
       "  'oneQubitGateErrorRate': 0.001,\n",
       "  'twoQubitGateErrorRate': 0.001,\n",
       "  'tGateErrorRate': 0.001,\n",
       "  'idleErrorRate': 0.001},\n",
       " 'estimateType': 'singlePoint'}"
      ]
     },
     "execution_count": 125,
     "metadata": {},
     "output_type": "execute_result"
    }
   ],
   "source": [
    "results[0]['jobParams']"
   ]
  },
  {
   "cell_type": "code",
   "execution_count": 124,
   "metadata": {},
   "outputs": [
    {
     "data": {
      "text/plain": [
       "{'qecScheme': {'name': 'floquet_code',\n",
       "  'errorCorrectionThreshold': 0.01,\n",
       "  'crossingPrefactor': 0.07,\n",
       "  'logicalCycleTime': '3 * oneQubitMeasurementTime * codeDistance',\n",
       "  'physicalQubitsPerLogicalQubit': '4 * codeDistance * codeDistance + 8 * (codeDistance - 1)',\n",
       "  'maxCodeDistance': 50},\n",
       " 'errorBudget': 0.001,\n",
       " 'qubitParams': {'instructionSet': 'Majorana',\n",
       "  'name': '',\n",
       "  'oneQubitMeasurementTime': '10 ns',\n",
       "  'twoQubitJointMeasurementTime': '10 ns',\n",
       "  'tGateTime': '10 ns',\n",
       "  'oneQubitMeasurementErrorRate': {'process': 0.001, 'readout': 0.001},\n",
       "  'twoQubitJointMeasurementErrorRate': {'process': 0.001, 'readout': 0.001},\n",
       "  'tGateErrorRate': 0.01,\n",
       "  'idleErrorRate': 0.001},\n",
       " 'estimateType': 'singlePoint'}"
      ]
     },
     "execution_count": 124,
     "metadata": {},
     "output_type": "execute_result"
    }
   ],
   "source": [
    "results[1]['jobParams']"
   ]
  },
  {
   "cell_type": "code",
   "execution_count": 126,
   "metadata": {},
   "outputs": [
    {
     "data": {
      "text/plain": [
       "{'runtime': '920 microsecs',\n",
       " 'rqops': '2.73M',\n",
       " 'physicalQubits': '206.18k',\n",
       " 'algorithmicLogicalQubits': '12',\n",
       " 'algorithmicLogicalDepth': '209',\n",
       " 'logicalDepth': '209',\n",
       " 'numTstates': '336',\n",
       " 'numTfactories': '21',\n",
       " 'numTfactoryRuns': '16',\n",
       " 'physicalQubitsForAlgorithm': '2.90k',\n",
       " 'physicalQubitsForTfactories': '203.28k',\n",
       " 'physicalQubitsForTfactoriesPercentage': '98.59 %',\n",
       " 'requiredLogicalQubitErrorRate': '1.33e-7',\n",
       " 'requiredLogicalTstateErrorRate': '9.92e-7',\n",
       " 'physicalQubitsPerLogicalQubit': '242',\n",
       " 'logicalCycleTime': '4 microsecs',\n",
       " 'clockFrequency': '227.27k',\n",
       " 'logicalErrorRate': '3.00e-8',\n",
       " 'tfactoryPhysicalQubits': '9.68k',\n",
       " 'tfactoryRuntime': '57 microsecs',\n",
       " 'numInputTstates': '30',\n",
       " 'numUnitsPerRound': '2',\n",
       " 'unitNamePerRound': '15-to-1 space efficient',\n",
       " 'codeDistancePerRound': '11',\n",
       " 'physicalQubitsPerRound': '9.68k',\n",
       " 'tfactoryRuntimePerRound': '57 microsecs',\n",
       " 'tstateLogicalErrorRate': '2.48e-7',\n",
       " 'logicalCountsNumQubits': '3',\n",
       " 'logicalCountsTCount': '0',\n",
       " 'logicalCountsRotationCount': '24',\n",
       " 'logicalCountsRotationDepth': '13',\n",
       " 'logicalCountsCczCount': '0',\n",
       " 'logicalCountsCcixCount': '0',\n",
       " 'logicalCountsMeasurementCount': '3',\n",
       " 'errorBudget': '1.00e-3',\n",
       " 'errorBudgetLogical': '3.33e-4',\n",
       " 'errorBudgetTstates': '3.33e-4',\n",
       " 'errorBudgetRotations': '3.33e-4',\n",
       " 'numTsPerRotation': '14',\n",
       " 'logicalDepthFactor': 'constraint not set',\n",
       " 'maxTFactories': 'constraint not set',\n",
       " 'maxDuration': 'constraint not set',\n",
       " 'maxPhysicalQubits': 'constraint not set'}"
      ]
     },
     "execution_count": 126,
     "metadata": {},
     "output_type": "execute_result"
    }
   ],
   "source": [
    "results[0]['physicalCountsFormatted']"
   ]
  },
  {
   "cell_type": "code",
   "execution_count": 127,
   "metadata": {},
   "outputs": [
    {
     "data": {
      "text/plain": [
       "{'runtime': '69 microsecs',\n",
       " 'rqops': '36.36M',\n",
       " 'physicalQubits': '3.22M',\n",
       " 'algorithmicLogicalQubits': '12',\n",
       " 'algorithmicLogicalDepth': '209',\n",
       " 'logicalDepth': '209',\n",
       " 'numTstates': '336',\n",
       " 'numTfactories': '29',\n",
       " 'numTfactoryRuns': '12',\n",
       " 'physicalQubitsForAlgorithm': '6.77k',\n",
       " 'physicalQubitsForTfactories': '3.22M',\n",
       " 'physicalQubitsForTfactoriesPercentage': '99.79 %',\n",
       " 'requiredLogicalQubitErrorRate': '1.33e-7',\n",
       " 'requiredLogicalTstateErrorRate': '9.92e-7',\n",
       " 'physicalQubitsPerLogicalQubit': '564',\n",
       " 'logicalCycleTime': '331 nanosecs',\n",
       " 'clockFrequency': '3.03M',\n",
       " 'logicalErrorRate': '7.00e-8',\n",
       " 'tfactoryPhysicalQubits': '110.88k',\n",
       " 'tfactoryRuntime': '6 microsecs',\n",
       " 'numInputTstates': '20.66k',\n",
       " 'numUnitsPerRound': '1377, 42, 2',\n",
       " 'unitNamePerRound': '15-to-1 RM prep, 15-to-1 space efficient, 15-to-1 RM prep',\n",
       " 'codeDistancePerRound': '1, 5, 11',\n",
       " 'physicalQubitsPerRound': '42.69k, 110.88k, 34.97k',\n",
       " 'tfactoryRuntimePerRound': '241 nanosecs, 2 microsecs, 4 microsecs',\n",
       " 'tstateLogicalErrorRate': '5.02e-7',\n",
       " 'logicalCountsNumQubits': '3',\n",
       " 'logicalCountsTCount': '0',\n",
       " 'logicalCountsRotationCount': '24',\n",
       " 'logicalCountsRotationDepth': '13',\n",
       " 'logicalCountsCczCount': '0',\n",
       " 'logicalCountsCcixCount': '0',\n",
       " 'logicalCountsMeasurementCount': '3',\n",
       " 'errorBudget': '1.00e-3',\n",
       " 'errorBudgetLogical': '3.33e-4',\n",
       " 'errorBudgetTstates': '3.33e-4',\n",
       " 'errorBudgetRotations': '3.33e-4',\n",
       " 'numTsPerRotation': '14',\n",
       " 'logicalDepthFactor': 'constraint not set',\n",
       " 'maxTFactories': 'constraint not set',\n",
       " 'maxDuration': 'constraint not set',\n",
       " 'maxPhysicalQubits': 'constraint not set'}"
      ]
     },
     "execution_count": 127,
     "metadata": {},
     "output_type": "execute_result"
    }
   ],
   "source": [
    "results[1]['physicalCountsFormatted']"
   ]
  },
  {
   "cell_type": "code",
   "execution_count": 15,
   "metadata": {},
   "outputs": [],
   "source": [
    "# Get resource estimates\n",
    "res = qsharp.estimate(qsharp_string,\n",
    "                      params={\"errorBudget\": 0.01,\n",
    "                              \"qubitParams\": {\"name\": \"qubit_maj_ns_e6\"},\n",
    "                              \"qecScheme\": {\"name\": \"floquet_code\"}})"
   ]
  },
  {
   "cell_type": "code",
   "execution_count": 19,
   "metadata": {},
   "outputs": [],
   "source": [
    "from qsharp_widgets import SpaceChart"
   ]
  },
  {
   "cell_type": "code",
   "execution_count": null,
   "metadata": {},
   "outputs": [],
   "source": [
    "from qsharp_widgets import "
   ]
  },
  {
   "cell_type": "code",
   "execution_count": 34,
   "metadata": {},
   "outputs": [
    {
     "data": {
      "text/plain": [
       "dict_keys(['status', 'jobParams', 'physicalCounts', 'physicalCountsFormatted', 'logicalQubit', 'tfactory', 'errorBudget', 'logicalCounts', 'reportData'])"
      ]
     },
     "execution_count": 34,
     "metadata": {},
     "output_type": "execute_result"
    }
   ],
   "source": [
    "result.keys()"
   ]
  },
  {
   "cell_type": "code",
   "execution_count": 35,
   "metadata": {},
   "outputs": [
    {
     "data": {
      "text/plain": [
       "'success'"
      ]
     },
     "execution_count": 35,
     "metadata": {},
     "output_type": "execute_result"
    }
   ],
   "source": [
    "result['status']"
   ]
  },
  {
   "cell_type": "code",
   "execution_count": 38,
   "metadata": {},
   "outputs": [
    {
     "data": {
      "text/plain": [
       "{'qecScheme': {'name': 'floquet_code',\n",
       "  'errorCorrectionThreshold': 0.01,\n",
       "  'crossingPrefactor': 0.07,\n",
       "  'logicalCycleTime': '3 * oneQubitMeasurementTime * codeDistance',\n",
       "  'physicalQubitsPerLogicalQubit': '4 * codeDistance * codeDistance + 8 * (codeDistance - 1)',\n",
       "  'maxCodeDistance': 50},\n",
       " 'errorBudget': 0.01,\n",
       " 'qubitParams': {'instructionSet': 'Majorana',\n",
       "  'name': 'qubit_maj_ns_e6',\n",
       "  'oneQubitMeasurementTime': '100 ns',\n",
       "  'twoQubitJointMeasurementTime': '100 ns',\n",
       "  'tGateTime': '100 ns',\n",
       "  'oneQubitMeasurementErrorRate': {'process': 1e-06, 'readout': 1e-06},\n",
       "  'twoQubitJointMeasurementErrorRate': {'process': 1e-06, 'readout': 1e-06},\n",
       "  'tGateErrorRate': 0.01,\n",
       "  'idleErrorRate': 1e-06},\n",
       " 'constraints': {'logicalDepthFactor': 4.0},\n",
       " 'estimateType': 'singlePoint'}"
      ]
     },
     "execution_count": 38,
     "metadata": {},
     "output_type": "execute_result"
    }
   ],
   "source": [
    "result['jobParams']"
   ]
  },
  {
   "cell_type": "code",
   "execution_count": 40,
   "metadata": {},
   "outputs": [
    {
     "data": {
      "text/plain": [
       "{'runtime': '810 microsecs',\n",
       " 'rqops': '13.33M',\n",
       " 'physicalQubits': '7.90k',\n",
       " 'algorithmicLogicalQubits': '12',\n",
       " 'algorithmicLogicalDepth': '225',\n",
       " 'logicalDepth': '900',\n",
       " 'numTstates': '351',\n",
       " 'numTfactories': '7',\n",
       " 'numTfactoryRuns': '51',\n",
       " 'physicalQubitsForAlgorithm': '624',\n",
       " 'physicalQubitsForTfactories': '7.28k',\n",
       " 'physicalQubitsForTfactoriesPercentage': '92.11 %',\n",
       " 'requiredLogicalQubitErrorRate': '3.09e-7',\n",
       " 'requiredLogicalTstateErrorRate': '9.50e-6',\n",
       " 'physicalQubitsPerLogicalQubit': '52',\n",
       " 'logicalCycleTime': '901 nanosecs',\n",
       " 'clockFrequency': '1.11M',\n",
       " 'logicalErrorRate': '7.00e-10',\n",
       " 'tfactoryPhysicalQubits': '1.04k',\n",
       " 'tfactoryRuntime': '14 microsecs',\n",
       " 'numInputTstates': '345',\n",
       " 'numUnitsPerRound': '23, 1',\n",
       " 'unitNamePerRound': '15-to-1 RM prep, 15-to-1 space efficient',\n",
       " 'codeDistancePerRound': '1, 3',\n",
       " 'physicalQubitsPerRound': '713, 1.04k',\n",
       " 'tfactoryRuntimePerRound': '2 microsecs, 12 microsecs',\n",
       " 'tstateLogicalErrorRate': '4.97e-9',\n",
       " 'logicalCountsNumQubits': '3',\n",
       " 'logicalCountsTCount': '0',\n",
       " 'logicalCountsRotationCount': '27',\n",
       " 'logicalCountsRotationDepth': '15',\n",
       " 'logicalCountsCczCount': '0',\n",
       " 'logicalCountsCcixCount': '0',\n",
       " 'logicalCountsMeasurementCount': '3',\n",
       " 'errorBudget': '1.00e-2',\n",
       " 'errorBudgetLogical': '3.33e-3',\n",
       " 'errorBudgetTstates': '3.33e-3',\n",
       " 'errorBudgetRotations': '3.33e-3',\n",
       " 'numTsPerRotation': '13',\n",
       " 'logicalDepthFactor': '4',\n",
       " 'maxTFactories': 'constraint not set',\n",
       " 'maxDuration': 'constraint not set',\n",
       " 'maxPhysicalQubits': 'constraint not set'}"
      ]
     },
     "execution_count": 40,
     "metadata": {},
     "output_type": "execute_result"
    }
   ],
   "source": [
    "result['physicalCountsFormatted']"
   ]
  },
  {
   "cell_type": "code",
   "execution_count": 44,
   "metadata": {},
   "outputs": [
    {
     "data": {
      "text/plain": [
       "dict_keys(['groups', 'assumptions'])"
      ]
     },
     "execution_count": 44,
     "metadata": {},
     "output_type": "execute_result"
    }
   ],
   "source": [
    "result['reportData'].keys()"
   ]
  },
  {
   "cell_type": "code",
   "execution_count": 45,
   "metadata": {},
   "outputs": [
    {
     "data": {
      "text/plain": [
       "{'physicalQubits': 1040,\n",
       " 'runtime': 14100,\n",
       " 'numTstates': 1,\n",
       " 'numInputTstates': 345,\n",
       " 'numRounds': 2,\n",
       " 'numUnitsPerRound': [23, 1],\n",
       " 'unitNamePerRound': ['15-to-1 RM prep', '15-to-1 space efficient'],\n",
       " 'codeDistancePerRound': [1, 3],\n",
       " 'physicalQubitsPerRound': [713, 1040],\n",
       " 'runtimePerRound': [2400, 11700],\n",
       " 'logicalErrorRate': 4.972611646134999e-09}"
      ]
     },
     "execution_count": 45,
     "metadata": {},
     "output_type": "execute_result"
    }
   ],
   "source": [
    "result['tfactory']"
   ]
  },
  {
   "cell_type": "code",
   "execution_count": 130,
   "metadata": {},
   "outputs": [
    {
     "data": {
      "application/vnd.jupyter.widget-view+json": {
       "model_id": "3836eaf3fe1144789f4496685682f963",
       "version_major": 2,
       "version_minor": 0
      },
      "text/plain": [
       "SpaceChart(estimates={'status': 'success', 'jobParams': {'qecScheme': {'name': 'surface_code', 'errorCorrectio…"
      ]
     },
     "execution_count": 130,
     "metadata": {},
     "output_type": "execute_result"
    }
   ],
   "source": [
    "SpaceChart(results[0])"
   ]
  },
  {
   "cell_type": "code",
   "execution_count": 131,
   "metadata": {},
   "outputs": [
    {
     "data": {
      "application/vnd.jupyter.widget-view+json": {
       "model_id": "f016716655ed469aa6225958bed35196",
       "version_major": 2,
       "version_minor": 0
      },
      "text/plain": [
       "SpaceChart(estimates={'status': 'success', 'jobParams': {'qecScheme': {'name': 'floquet_code', 'errorCorrectio…"
      ]
     },
     "execution_count": 131,
     "metadata": {},
     "output_type": "execute_result"
    }
   ],
   "source": [
    "SpaceChart(results[1])"
   ]
  },
  {
   "cell_type": "code",
   "execution_count": 138,
   "metadata": {},
   "outputs": [
    {
     "data": {
      "application/vnd.jupyter.widget-view+json": {
       "model_id": "8cbe7bf39ce6449b91220f646ae664d4",
       "version_major": 2,
       "version_minor": 0
      },
      "text/plain": [
       "EstimatesOverview(estimates={'status': 'success', 'jobParams': {'qecScheme': {'name': 'surface_code', 'errorCo…"
      ]
     },
     "execution_count": 138,
     "metadata": {},
     "output_type": "execute_result"
    }
   ],
   "source": [
    "from qsharp_widgets import EstimatesOverview\n",
    "\n",
    "EstimatesOverview(estimates=results[0])"
   ]
  },
  {
   "cell_type": "code",
   "execution_count": null,
   "metadata": {},
   "outputs": [],
   "source": []
  }
 ],
 "metadata": {
  "kernelspec": {
   "display_name": "qrise_qsharp",
   "language": "python",
   "name": "python3"
  },
  "language_info": {
   "codemirror_mode": {
    "name": "ipython",
    "version": 3
   },
   "file_extension": ".py",
   "mimetype": "text/x-python",
   "name": "python",
   "nbconvert_exporter": "python",
   "pygments_lexer": "ipython3",
   "version": "3.11.8"
  }
 },
 "nbformat": 4,
 "nbformat_minor": 2
}
