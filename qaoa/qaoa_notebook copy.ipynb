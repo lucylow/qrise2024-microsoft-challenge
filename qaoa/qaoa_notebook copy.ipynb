{
 "cells": [
  {
   "cell_type": "markdown",
   "metadata": {},
   "source": [
    "# Notebook version of QAOA"
   ]
  },
  {
   "cell_type": "code",
   "execution_count": null,
   "metadata": {},
   "outputs": [],
   "source": [
    "pip install "
   ]
  },
  {
   "cell_type": "code",
   "execution_count": 19,
   "metadata": {
    "scrolled": true
   },
   "outputs": [],
   "source": [
    "# pip install qsharp\n"
   ]
  },
  {
   "cell_type": "code",
   "execution_count": 18,
   "metadata": {},
   "outputs": [],
   "source": [
    "# pip install qsharp_widgets"
   ]
  },
  {
   "cell_type": "code",
   "execution_count": 20,
   "metadata": {},
   "outputs": [
    {
     "ename": "ModuleNotFoundError",
     "evalue": "No module named 'qiskit.exceptions'",
     "output_type": "error",
     "traceback": [
      "\u001b[0;31m---------------------------------------------------------------------------\u001b[0m",
      "\u001b[0;31mModuleNotFoundError\u001b[0m                       Traceback (most recent call last)",
      "Cell \u001b[0;32mIn[20], line 15\u001b[0m\n\u001b[1;32m     12\u001b[0m \u001b[38;5;28;01mfrom\u001b[39;00m \u001b[38;5;21;01mscipy\u001b[39;00m\u001b[38;5;21;01m.\u001b[39;00m\u001b[38;5;21;01moptimize\u001b[39;00m \u001b[38;5;28;01mimport\u001b[39;00m minimize\n\u001b[1;32m     14\u001b[0m \u001b[38;5;66;03m# Qiskit Imports\u001b[39;00m\n\u001b[0;32m---> 15\u001b[0m \u001b[38;5;28;01mfrom\u001b[39;00m \u001b[38;5;21;01mqiskit_optimization\u001b[39;00m\u001b[38;5;21;01m.\u001b[39;00m\u001b[38;5;21;01mconverters\u001b[39;00m \u001b[38;5;28;01mimport\u001b[39;00m QuadraticProgramToQubo\n\u001b[1;32m     16\u001b[0m \u001b[38;5;28;01mfrom\u001b[39;00m \u001b[38;5;21;01mqiskit_optimization\u001b[39;00m\u001b[38;5;21;01m.\u001b[39;00m\u001b[38;5;21;01mtranslators\u001b[39;00m \u001b[38;5;28;01mimport\u001b[39;00m from_docplex_mp\n\u001b[1;32m     18\u001b[0m \u001b[38;5;66;03m# Qsharp\u001b[39;00m\n",
      "File \u001b[0;32m~/anaconda3/lib/python3.11/site-packages/qiskit_optimization/__init__.py:88\u001b[0m\n\u001b[1;32m      1\u001b[0m \u001b[38;5;66;03m# This code is part of a Qiskit project.\u001b[39;00m\n\u001b[1;32m      2\u001b[0m \u001b[38;5;66;03m#\u001b[39;00m\n\u001b[1;32m      3\u001b[0m \u001b[38;5;66;03m# (C) Copyright IBM 2019, 2024.\u001b[39;00m\n\u001b[0;32m   (...)\u001b[0m\n\u001b[1;32m     10\u001b[0m \u001b[38;5;66;03m# copyright notice, and modified files need to carry a notice indicating\u001b[39;00m\n\u001b[1;32m     11\u001b[0m \u001b[38;5;66;03m# that they have been altered from the originals.\u001b[39;00m\n\u001b[1;32m     12\u001b[0m \u001b[38;5;124;03m\"\"\"\u001b[39;00m\n\u001b[1;32m     13\u001b[0m \u001b[38;5;124;03m=========================================================\u001b[39;00m\n\u001b[1;32m     14\u001b[0m \u001b[38;5;124;03mQiskit optimization module (:mod:`qiskit_optimization`)\u001b[39;00m\n\u001b[0;32m   (...)\u001b[0m\n\u001b[1;32m     85\u001b[0m \n\u001b[1;32m     86\u001b[0m \u001b[38;5;124;03m\"\"\"\u001b[39;00m\n\u001b[0;32m---> 88\u001b[0m \u001b[38;5;28;01mfrom\u001b[39;00m \u001b[38;5;21;01m.\u001b[39;00m\u001b[38;5;21;01mexceptions\u001b[39;00m \u001b[38;5;28;01mimport\u001b[39;00m QiskitOptimizationError\n\u001b[1;32m     89\u001b[0m \u001b[38;5;28;01mfrom\u001b[39;00m \u001b[38;5;21;01m.\u001b[39;00m\u001b[38;5;21;01minfinity\u001b[39;00m \u001b[38;5;28;01mimport\u001b[39;00m INFINITY  \u001b[38;5;66;03m# must be at the top of the file\u001b[39;00m\n\u001b[1;32m     90\u001b[0m \u001b[38;5;28;01mfrom\u001b[39;00m \u001b[38;5;21;01m.\u001b[39;00m\u001b[38;5;21;01mproblems\u001b[39;00m\u001b[38;5;21;01m.\u001b[39;00m\u001b[38;5;21;01mquadratic_program\u001b[39;00m \u001b[38;5;28;01mimport\u001b[39;00m QuadraticProgram\n",
      "File \u001b[0;32m~/anaconda3/lib/python3.11/site-packages/qiskit_optimization/exceptions.py:15\u001b[0m\n\u001b[1;32m      1\u001b[0m \u001b[38;5;66;03m# This code is part of a Qiskit project.\u001b[39;00m\n\u001b[1;32m      2\u001b[0m \u001b[38;5;66;03m#\u001b[39;00m\n\u001b[1;32m      3\u001b[0m \u001b[38;5;66;03m# (C) Copyright IBM 2019, 2023.\u001b[39;00m\n\u001b[0;32m   (...)\u001b[0m\n\u001b[1;32m     10\u001b[0m \u001b[38;5;66;03m# copyright notice, and modified files need to carry a notice indicating\u001b[39;00m\n\u001b[1;32m     11\u001b[0m \u001b[38;5;66;03m# that they have been altered from the originals.\u001b[39;00m\n\u001b[1;32m     13\u001b[0m \u001b[38;5;124;03m\"\"\" Qiskit Optimization Exception \"\"\"\u001b[39;00m\n\u001b[0;32m---> 15\u001b[0m \u001b[38;5;28;01mfrom\u001b[39;00m \u001b[38;5;21;01mqiskit\u001b[39;00m\u001b[38;5;21;01m.\u001b[39;00m\u001b[38;5;21;01mexceptions\u001b[39;00m \u001b[38;5;28;01mimport\u001b[39;00m QiskitError\n\u001b[1;32m     18\u001b[0m \u001b[38;5;28;01mclass\u001b[39;00m \u001b[38;5;21;01mQiskitOptimizationError\u001b[39;00m(QiskitError):\n\u001b[1;32m     19\u001b[0m \u001b[38;5;250m    \u001b[39m\u001b[38;5;124;03m\"\"\"Class for errors returned by Qiskit optimization module.\"\"\"\u001b[39;00m\n",
      "\u001b[0;31mModuleNotFoundError\u001b[0m: No module named 'qiskit.exceptions'"
     ]
    }
   ],
   "source": [
    "# This Notebook acts as a host for Q# to implement Quantum Approximate Optimization Algorithm (QAOA) on a gate-based Quantum Computing model.\n",
    "\n",
    "# Importing required libraries\n",
    "# General imports\n",
    "import time\n",
    "from numpy import pi\n",
    "import numpy as np\n",
    "import matplotlib.pyplot as plt\n",
    "\n",
    "# Libraries for Model Formulation\n",
    "from docplex.mp.model import Model\n",
    "from scipy.optimize import minimize\n",
    "\n",
    "# Qiskit Imports\n",
    "from qiskit_optimization.converters import QuadraticProgramToQubo\n",
    "from qiskit_optimization.translators import from_docplex_mp\n",
    "\n",
    "# Qsharp\n",
    "import qsharp\n",
    "from qsharp_widgets import EstimatesOverview"
   ]
  },
  {
   "cell_type": "code",
   "execution_count": 15,
   "metadata": {},
   "outputs": [],
   "source": [
    "# Defining helper functions.\n",
    "def find_most_common_solutions(input_dict, n):\n",
    "    \"\"\"\n",
    "    Sorts the keys of the input dictionary in descending order based on their values and returns the first n keys.\n",
    "\n",
    "    Parameters:\n",
    "        input_dict (dict): A dictionary containing the keys and their corresponding values.\n",
    "        n (int): The number of most common solutions to return.\n",
    "\n",
    "    Returns:\n",
    "        list: A list of the n most common keys sorted in descending order based on their values.\n",
    "    \"\"\"\n",
    "    sorted_keys = sorted(input_dict, key=input_dict.get, reverse=True)\n",
    "    return sorted_keys[:n]\n",
    "\n",
    "\n",
    "# Building the model and its Cost Function\n",
    "def build_qubo(arr: list):\n",
    "    \"\"\"\n",
    "    Function to build a QUBO (Quadratic Unconstrained Binary Optimization) model from a given array\n",
    "    for the Number Partitioning Problem (NPP).\n",
    "\n",
    "    :param arr: a list of integers representing the array from which the QUBO model is built\n",
    "    :return: a tuple containing the quadratic coefficients, linear coefficients, and the QUBO model\n",
    "    \"\"\"\n",
    "\n",
    "    # Length of the array - Length of the binary vector x\n",
    "    n = len(arr)\n",
    "    # Sum of the array - c\n",
    "    c = sum(arr)\n",
    "\n",
    "    # Building the model and its QUBO formulation.\n",
    "    model = Model()\n",
    "    x = model.binary_var_list(n)\n",
    "\n",
    "    # Cost Function for Number Partirioning Problem (NPP)\n",
    "    Q =  (c - 2*sum(arr[i]*x[i] for i in range(n)))**2\n",
    "    model.minimize(Q)   \n",
    "    problem = from_docplex_mp(model)\n",
    "\n",
    "    # QUBO formulation\n",
    "    converter = QuadraticProgramToQubo()\n",
    "    qubo = converter.convert(problem)\n",
    "\n",
    "    # Quadratic and Linear Coefficients\n",
    "    quadratics = qubo.objective.quadratic.coefficients\n",
    "    linears = qubo.objective.linear.coefficients\n",
    "\n",
    "    return quadratics, linears, qubo\n",
    "\n",
    "def interger_to_counts(n: int, result: list) -> dict:\n",
    "    \"\"\"\n",
    "    Given a list of integers (output of the circuit), returns a dictionary with the counts of each integer.\n",
    "\n",
    "    Args:\n",
    "        n (int): The number of qubits in the circuit. Width of the bitstring.\n",
    "        a (list): The integer array to be converted.\n",
    "\n",
    "    Returns:\n",
    "        dict: A dictionary representing the counts of the integers (bitstrings).\n",
    "\n",
    "    Example:\n",
    "        >>> interger_to_counts(2 ,[1, 2, 3, 2, 1, 0])\n",
    "        {'00': 1, '01': 2, '10': 1, '11': 0}\n",
    "    \"\"\"\n",
    "    counts = {}\n",
    "    for i in range(2**n):\n",
    "        counts[np.binary_repr(i,width=n)] = 0\n",
    "    for integer in result:\n",
    "        counts[np.binary_repr(integer,width=n)] += 1\n",
    "    return counts\n",
    "\n",
    "def arr_to_str(a: np.ndarray) -> str:\n",
    "    \"\"\"\n",
    "    Converts a given array to a string representation.\n",
    "\n",
    "    Args:\n",
    "        a (list): The array to be converted.\n",
    "\n",
    "    Returns:\n",
    "        str: The string representation of the array.\n",
    "\n",
    "    Example:\n",
    "        >>> arr_to_str([1, 2, 3])\n",
    "        '[1, 2, 3]'\n",
    "    \"\"\"\n",
    "    string =''\n",
    "    for i in a:\n",
    "        string += str(i) + \",\"\n",
    "    return '[' + string[:-1] + ']'"
   ]
  },
  {
   "cell_type": "code",
   "execution_count": 16,
   "metadata": {
    "vscode": {
     "languageId": "qsharp"
    }
   },
   "outputs": [],
   "source": [
    "%%qsharp\n",
    "// This is a program for simulating the QAOA circuit. \n",
    "namespace qaoa_note{\n",
    "\n",
    "    open Microsoft.Quantum.Measurement;\n",
    "\n",
    "    // Function for getting flat index\n",
    "    operation flat_index(n: Int, i: Int, j: Int): Int{\n",
    "        return n*i + j\n",
    "    }\n",
    "    // Cost Hamiltonian\n",
    "    operation cost_unitary(qubits: Qubit[], gamma: Double, quadratics: Double[], linears: Double[]): Unit{\n",
    "        \n",
    "        let n_qubits = Length(linears);\n",
    "        mutable quad_sum : Double = 0.0;\n",
    "\n",
    "        // RZ Gates\n",
    "        for qubit in 0..n_qubits-1{\n",
    "            set quad_sum = 0.0;\n",
    "            for quad_qubit in 0..n_qubits-1{\n",
    "                set quad_sum += quadratics[flat_index(n_qubits,qubit,quad_qubit)];\n",
    "            }\n",
    "            Rz(0.5 * (linears[qubit] + quad_sum) * gamma, qubits[qubit])\n",
    "        }\n",
    "        // RZZ Gates\n",
    "        for i in 0..n_qubits-1{\n",
    "            for j in i+1..n_qubits-1{                \n",
    "                Rzz(0.25 * quadratics[flat_index(n_qubits,i,j)] * gamma, qubits[i], qubits[j])\n",
    "            }\n",
    "        }\n",
    "    }\n",
    "\n",
    "    // Mixer Hamiltonian\n",
    "    operation mixer_unitary(qubits: Qubit[], beta: Double) : Unit{\n",
    "        for qubit in qubits{\n",
    "            Rx(2.0 * beta,qubit);\n",
    "        }\n",
    "    }\n",
    "\n",
    "    // Function to create the QAOA circuit.\n",
    "    operation circuit(NQubits: Int, Layers: Int, gammas: Double[], betas: Double[], quadratics: Double[], linears: Double[]) : Int {\n",
    "\n",
    "        use q = Qubit[NQubits]; \n",
    "        mutable integer_result = 0;\n",
    "        \n",
    "        // State Preparation |+>\n",
    "        ApplyToEachA(H,q);\n",
    "\n",
    "        for layer in 0..Layers-1{\n",
    "            mixer_unitary(q, betas[layer]);\n",
    "            cost_unitary(q, gammas[layer], quadratics, linears)\n",
    "        }\n",
    "        // Return the bitstring as an integer.\n",
    "        return MeasureInteger(q);\n",
    "    }\n",
    "}\n"
   ]
  },
  {
   "cell_type": "code",
   "execution_count": 17,
   "metadata": {},
   "outputs": [
    {
     "ename": "NameError",
     "evalue": "name 'from_docplex_mp' is not defined",
     "output_type": "error",
     "traceback": [
      "\u001b[0;31m---------------------------------------------------------------------------\u001b[0m",
      "\u001b[0;31mNameError\u001b[0m                                 Traceback (most recent call last)",
      "Cell \u001b[0;32mIn[17], line 64\u001b[0m\n\u001b[1;32m     61\u001b[0m layers \u001b[38;5;241m=\u001b[39m \u001b[38;5;241m2\u001b[39m\n\u001b[1;32m     63\u001b[0m \u001b[38;5;66;03m# Running QAOA on for Number Partitioning.\u001b[39;00m\n\u001b[0;32m---> 64\u001b[0m counts \u001b[38;5;241m=\u001b[39m qaoa_NPP(test_array,layers)\n",
      "Cell \u001b[0;32mIn[17], line 10\u001b[0m, in \u001b[0;36mqaoa_NPP\u001b[0;34m(arr, layers)\u001b[0m\n\u001b[1;32m      8\u001b[0m \u001b[38;5;28;01mdef\u001b[39;00m \u001b[38;5;21mqaoa_NPP\u001b[39m(arr,layers:\u001b[38;5;28mint\u001b[39m):\n\u001b[0;32m---> 10\u001b[0m     quadratics, linears, qubo \u001b[38;5;241m=\u001b[39m build_qubo(arr)\n\u001b[1;32m     11\u001b[0m     num_qubits \u001b[38;5;241m=\u001b[39m \u001b[38;5;28mlen\u001b[39m(arr)\n\u001b[1;32m     13\u001b[0m     quadratics \u001b[38;5;241m=\u001b[39m quadratics\u001b[38;5;241m.\u001b[39mtoarray()\u001b[38;5;241m.\u001b[39mflatten()\n",
      "Cell \u001b[0;32mIn[15], line 39\u001b[0m, in \u001b[0;36mbuild_qubo\u001b[0;34m(arr)\u001b[0m\n\u001b[1;32m     37\u001b[0m Q \u001b[38;5;241m=\u001b[39m  (c \u001b[38;5;241m-\u001b[39m \u001b[38;5;241m2\u001b[39m\u001b[38;5;241m*\u001b[39m\u001b[38;5;28msum\u001b[39m(arr[i]\u001b[38;5;241m*\u001b[39mx[i] \u001b[38;5;28;01mfor\u001b[39;00m i \u001b[38;5;129;01min\u001b[39;00m \u001b[38;5;28mrange\u001b[39m(n)))\u001b[38;5;241m*\u001b[39m\u001b[38;5;241m*\u001b[39m\u001b[38;5;241m2\u001b[39m\n\u001b[1;32m     38\u001b[0m model\u001b[38;5;241m.\u001b[39mminimize(Q)   \n\u001b[0;32m---> 39\u001b[0m problem \u001b[38;5;241m=\u001b[39m from_docplex_mp(model)\n\u001b[1;32m     41\u001b[0m \u001b[38;5;66;03m# QUBO formulation\u001b[39;00m\n\u001b[1;32m     42\u001b[0m converter \u001b[38;5;241m=\u001b[39m QuadraticProgramToQubo()\n",
      "\u001b[0;31mNameError\u001b[0m: name 'from_docplex_mp' is not defined"
     ]
    }
   ],
   "source": [
    "func_call = 0\n",
    "theta = []\n",
    "cost = []\n",
    "\n",
    "def callback_func(x):\n",
    "    theta.append(x)\n",
    "\n",
    "def qaoa_NPP(arr,layers:int):\n",
    "    \n",
    "    quadratics, linears, qubo = build_qubo(arr)\n",
    "    num_qubits = len(arr)\n",
    "\n",
    "    quadratics = quadratics.toarray().flatten()\n",
    "    linears = linears.toarray()\n",
    "\n",
    "    # Initial guess\n",
    "    init_gamma = np.array([pi/1.5]*layers)\n",
    "    init_beta = np.array([pi/4]*layers)\n",
    "    initial_guess = np.concatenate((init_gamma, init_beta))\n",
    "    \n",
    "    def expectation_value(theta):\n",
    "        global func_call \n",
    "        func_call = func_call + 1\n",
    "        print(f'Function call: {func_call}')\n",
    "        middle = int(len(theta)/2)\n",
    "        gammas = theta[:middle]\n",
    "        betas = theta[middle:]\n",
    "\n",
    "        input_str = f\"{num_qubits},{layers},{arr_to_str(gammas)},{arr_to_str(betas)},{arr_to_str(quadratics)},{arr_to_str(linears[0])}\"\n",
    "\n",
    "        int_results = qsharp.run(f\"qaoa_note.circuit({input_str})\",shots=100)\n",
    "        counts = interger_to_counts(num_qubits,int_results)\n",
    "\n",
    "        best_sol = max(counts, key=counts.get) # type: ignore\n",
    "        exp =  qubo.objective.evaluate(np.array(list(best_sol), dtype='int'))\n",
    "        cost.append(exp)\n",
    "        return exp\n",
    "\n",
    "    # Minimization of the objective function.\n",
    "    start_time = time.time()\n",
    "    res = minimize(expectation_value, initial_guess, method='COBYLA',callback=callback_func)\n",
    "    end_time = time.time()\n",
    "    elapsed_time = end_time - start_time\n",
    "\n",
    "    print(f'Elapsed time for QAOA: {elapsed_time} seconds')\n",
    "\n",
    "    middle = int(len(res.x)/2)\n",
    "    prime_gammas = res.x[:middle]\n",
    "    prime_betas = res.x[middle:]\n",
    "\n",
    "    input_str = f\"{num_qubits},{layers},{arr_to_str(prime_gammas)},{arr_to_str(prime_betas)},{arr_to_str(quadratics)},{arr_to_str(linears[0])}\"\n",
    "\n",
    "    results = qsharp.run(f\"qaoa_note.circuit({input_str})\",shots=100)\n",
    "    \n",
    "    counts = interger_to_counts(num_qubits,results)\n",
    "    \n",
    "    return counts\n",
    "\n",
    "# Defining a test array\n",
    "test_array = [5,1,6]\n",
    "layers = 2\n",
    "\n",
    "# Running QAOA on for Number Partitioning.\n",
    "counts = qaoa_NPP(test_array,layers)"
   ]
  },
  {
   "cell_type": "code",
   "execution_count": 4,
   "metadata": {},
   "outputs": [
    {
     "ename": "NameError",
     "evalue": "name 'counts' is not defined",
     "output_type": "error",
     "traceback": [
      "\u001b[0;31m---------------------------------------------------------------------------\u001b[0m",
      "\u001b[0;31mNameError\u001b[0m                                 Traceback (most recent call last)",
      "Cell \u001b[0;32mIn[4], line 3\u001b[0m\n\u001b[1;32m      1\u001b[0m \u001b[38;5;66;03m# Plotting the output state.\u001b[39;00m\n\u001b[1;32m      2\u001b[0m plt\u001b[38;5;241m.\u001b[39mfigure(figsize\u001b[38;5;241m=\u001b[39m(\u001b[38;5;241m15\u001b[39m, \u001b[38;5;241m5\u001b[39m))\n\u001b[0;32m----> 3\u001b[0m plt\u001b[38;5;241m.\u001b[39mbar(\u001b[38;5;28mrange\u001b[39m(\u001b[38;5;28mlen\u001b[39m(counts)), \u001b[38;5;28mlist\u001b[39m(counts\u001b[38;5;241m.\u001b[39mvalues()), align\u001b[38;5;241m=\u001b[39m\u001b[38;5;124m'\u001b[39m\u001b[38;5;124mcenter\u001b[39m\u001b[38;5;124m'\u001b[39m, color\u001b[38;5;241m=\u001b[39m\u001b[38;5;124m'\u001b[39m\u001b[38;5;124mred\u001b[39m\u001b[38;5;124m'\u001b[39m)\n\u001b[1;32m      4\u001b[0m plt\u001b[38;5;241m.\u001b[39mxticks(\u001b[38;5;28mrange\u001b[39m(\u001b[38;5;28mlen\u001b[39m(counts)), \u001b[38;5;28mlist\u001b[39m(counts\u001b[38;5;241m.\u001b[39mkeys()), rotation\u001b[38;5;241m=\u001b[39m\u001b[38;5;241m90\u001b[39m)\n\u001b[1;32m      5\u001b[0m plt\u001b[38;5;241m.\u001b[39mtitle(\u001b[38;5;124m\"\u001b[39m\u001b[38;5;124mQAOA Output State\u001b[39m\u001b[38;5;124m\"\u001b[39m)\n",
      "\u001b[0;31mNameError\u001b[0m: name 'counts' is not defined"
     ]
    },
    {
     "data": {
      "text/plain": [
       "<Figure size 1500x500 with 0 Axes>"
      ]
     },
     "metadata": {},
     "output_type": "display_data"
    }
   ],
   "source": [
    "# Plotting the output state.\n",
    "plt.figure(figsize=(15, 5))\n",
    "plt.bar(range(len(counts)), list(counts.values()), align='center', color='red')\n",
    "plt.xticks(range(len(counts)), list(counts.keys()), rotation=90)\n",
    "plt.title(\"QAOA Output State\")\n",
    "plt.xlabel(\"Bitstrings\")\n",
    "plt.ylabel(\"Counts\")\n",
    "plt.grid()\n",
    "plt.show()"
   ]
  },
  {
   "cell_type": "code",
   "execution_count": 5,
   "metadata": {},
   "outputs": [
    {
     "data": {
      "image/png": "[encoded data removed]",
      "text/plain": [
       "<Figure size 1500x500 with 1 Axes>"
      ]
     },
     "metadata": {},
     "output_type": "display_data"
    }
   ],
   "source": [
    "# Plotting Cost vs. iterations.\n",
    "plt.figure(figsize=(15, 5))\n",
    "plt.plot(range(len(cost)),cost,color='g',ls='--',marker='o',lw=2)\n",
    "plt.xticks(range(1,len(cost)+1,5))\n",
    "plt.title('Cost vs. Iterations')\n",
    "plt.xlabel('Iterations')\n",
    "plt.ylabel('Cost')\n",
    "plt.grid()\n",
    "plt.show()"
   ]
  },
  {
   "cell_type": "code",
   "execution_count": 9,
   "metadata": {},
   "outputs": [
    {
     "name": "stdout",
     "output_type": "stream",
     "text": [
      "\n",
      "QAOA Top 3 solutions for [5, 1, 6] and 2 layers: \n",
      "['001', '101', '010']\n",
      "\n",
      "\n",
      " Best partition:\n",
      "S [6] - Sum(S) = 6\n",
      "S/A [5 1] - Sum(S/A) = 6\n"
     ]
    }
   ],
   "source": [
    "best_sol = find_most_common_solutions(counts,3)\n",
    "print(f'\\nQAOA Top 3 solutions for {test_array} and {layers} layers: \\n{best_sol}')\n",
    "\n",
    "c = sum(test_array)\n",
    "S = []\n",
    "S_A = []\n",
    "for ind,bit in enumerate(best_sol[0]):\n",
    "    if bit == '1':\n",
    "        S.append(ind)\n",
    "    else:\n",
    "        S_A.append(ind)\n",
    "\n",
    "sum_S = sum(np.array(test_array)[S])\n",
    "sum_S_A = sum(np.array(test_array)[S_A])    \n",
    "\n",
    "print(f'\\n\\n Best partition:\\nS {np.array(test_array)[S]} - Sum(S) = {sum_S}\\nS/A {np.array(test_array)[S_A]} - Sum(S/A) = {sum_S_A}')"
   ]
  },
  {
   "cell_type": "markdown",
   "metadata": {},
   "source": [
    "## Using the Resourse Estimator"
   ]
  },
  {
   "cell_type": "code",
   "execution_count": 13,
   "metadata": {},
   "outputs": [],
   "source": [
    "test_array = [1,2,4]\n",
    "\n",
    "n = len(test_array)\n",
    "layers = 3\n",
    "\n",
    "quadratics, linears, qubo = build_qubo(test_array)\n",
    "quadratics = quadratics.toarray().flatten()\n",
    "linears = linears.toarray()\n",
    "\n",
    "gammas = np.random.rand(layers)\n",
    "betas = np.random.rand(layers)\n",
    "\n",
    "input_str = f\"{n},{layers},{arr_to_str(gammas)},{arr_to_str(betas)},{arr_to_str(quadratics)},{arr_to_str(linears[0])}\"\n"
   ]
  },
  {
   "cell_type": "code",
   "execution_count": 14,
   "metadata": {},
   "outputs": [],
   "source": [
    "#below this cell is the testing and changing of parameters"
   ]
  },
  {
   "cell_type": "code",
   "execution_count": null,
   "metadata": {},
   "outputs": [],
   "source": []
  },
  {
   "cell_type": "code",
   "execution_count": 47,
   "metadata": {},
   "outputs": [
    {
     "data": {
      "application/vnd.jupyter.widget-view+json": {
       "model_id": "8ce93ab561dd4fd590ad318fb3744887",
       "version_major": 2,
       "version_minor": 0
      },
      "text/plain": [
       "EstimatesOverview(estimates={'status': 'success', 'jobParams': {'qecScheme': {'name': 'floquet_code', 'errorCo…"
      ]
     },
     "execution_count": 47,
     "metadata": {},
     "output_type": "execute_result"
    }
   ],
   "source": [
    "\n",
    "result = qsharp.estimate(f\"qaoa_note.circuit({input_str})\", params={\"errorBudget\": 0.01, \"qubitParams\": {\"name\": \"qubit_maj_ns_e6\"}, \"qecScheme\": {\"name\": \"floquet_code\"},\"estimateType\": \"frontier\", \"constraints\": {\"logicalDepthFactor\": 4}})\n",
    "\n",
    "estimates_overview = EstimatesOverview(result)\n",
    "estimates_overview"
   ]
  },
  {
   "cell_type": "code",
   "execution_count": null,
   "metadata": {},
   "outputs": [],
   "source": []
  },
  {
   "cell_type": "code",
   "execution_count": null,
   "metadata": {},
   "outputs": [],
   "source": []
  },
  {
   "cell_type": "code",
   "execution_count": 46,
   "metadata": {},
   "outputs": [
    {
     "data": {
      "application/vnd.jupyter.widget-view+json": {
       "model_id": "9ac15ae688e141239dbaffb298238bc1",
       "version_major": 2,
       "version_minor": 0
      },
      "text/plain": [
       "EstimatesOverview(estimates={0: {'status': 'success', 'jobParams': {'qecScheme': {'name': 'surface_code', 'err…"
      ]
     },
     "execution_count": 46,
     "metadata": {},
     "output_type": "execute_result"
    }
   ],
   "source": [
    "from qsharp.estimator import EstimatorParams, QubitParams, QECScheme\n",
    "\n",
    "labels = [\"Gate-based µs, 10⁻³\", \"Gate-based µs, 10⁻⁴\", \"Gate-based ns, 10⁻³\", \"Gate-based ns, 10⁻⁴\", \"F-Majorana ns, 10⁻⁴\", \"F-Majorana ns, 10⁻⁶\", \"S-Majorana ns, 10⁻⁴\", \"S-Majorana ns, 10⁻⁶\"]\n",
    "\n",
    "params = EstimatorParams(num_items=8)\n",
    "params.error_budget = 0.333\n",
    "params.items[0].qubit_params.name = QubitParams.GATE_US_E3\n",
    "params.items[0].qubit_params.estimateType = \"frontier\"\n",
    "params.items[1].qubit_params.name = QubitParams.GATE_US_E4\n",
    "params.items[1].qubit_params.estimateType = \"frontier\"\n",
    "params.items[2].qubit_params.name = QubitParams.GATE_NS_E3\n",
    "params.items[2].qubit_params.estimateType = \"frontier\"\n",
    "params.items[3].qubit_params.name = QubitParams.GATE_NS_E4\n",
    "params.items[3].qubit_params.estimateType = \"frontier\"\n",
    "params.items[4].qubit_params.name = QubitParams.MAJ_NS_E4\n",
    "params.items[4].qubit_params.estimateType = \"frontier\"\n",
    "params.items[4].qec_scheme.name = QECScheme.FLOQUET_CODE\n",
    "params.items[5].qubit_params.name = QubitParams.MAJ_NS_E6\n",
    "params.items[5].qubit_params.estimateType = \"frontier\"\n",
    "params.items[5].qec_scheme.name = QECScheme.FLOQUET_CODE\n",
    "params.items[6].qubit_params.name = QubitParams.MAJ_NS_E4\n",
    "params.items[6].qubit_params.estimateType = \"frontier\"\n",
    "params.items[6].qec_scheme.name = QECScheme.SURFACE_CODE\n",
    "params.items[7].qubit_params.name = \"qubit_maj_ns_e6\"\n",
    "params.items[7].qec_scheme.name = QECScheme.SURFACE_CODE\n",
    "params.items[7].qubit_params.estimateType = \"frontier\"\n",
    "\n",
    "\n",
    "# results = qsharp.estimate(f\"qaoa_note.circuit({input_str})\", params=params).summary_data_frame(labels=labels)\n",
    "# display(results[:])\n",
    "\n",
    "result = qsharp.estimate(f\"qaoa_note.circuit({input_str})\", params=params)\n",
    "\n",
    "estimates_overview = EstimatesOverview(result,runNames=labels)\n",
    "estimates_overview"
   ]
  },
  {
   "cell_type": "code",
   "execution_count": 44,
   "metadata": {},
   "outputs": [
    {
     "data": {
      "application/vnd.jupyter.widget-view+json": {
       "model_id": "d6901c2eda094b8885bd039e1ae05ba4",
       "version_major": 2,
       "version_minor": 0
      },
      "text/plain": [
       "EstimatesOverview(estimates={0: {'status': 'success', 'jobParams': {'qecScheme': {'name': 'surface_code', 'err…"
      ]
     },
     "execution_count": 44,
     "metadata": {},
     "output_type": "execute_result"
    }
   ],
   "source": [
    "result = qsharp.estimate(\n",
    "    f\"qaoa_note.circuit({input_str})\", \n",
    "    params=[\n",
    "        {\n",
    "            \"error_budget\": 0.333,\n",
    "            \"qubitParams\": { \"name\": \"qubit_gate_ns_e3\" },\n",
    "            \"qecScheme\": { \"name\": \"surface_code\" },\n",
    "            \"estimateType\": \"frontier\", # Pareto frontier estimation\n",
    "        },\n",
    "        {\n",
    "            \"error_budget\": 0.333,\n",
    "            \"qubitParams\": { \"name\": \"qubit_gate_ns_e4\" },\n",
    "            \"qecScheme\": { \"name\": \"surface_code\" },\n",
    "            \"estimateType\": \"frontier\", # Pareto frontier estimation\n",
    "        },\n",
    "        {\n",
    "            \"error_budget\": 0.333,\n",
    "            \"qubitParams\": { \"name\": \"qubit_gate_us_e3\" },\n",
    "            \"qecScheme\": { \"name\": \"surface_code\" },\n",
    "            \"estimateType\": \"frontier\", # Pareto frontier estimation\n",
    "        },\n",
    "        {\n",
    "            \"error_budget\": 0.333,\n",
    "            \"qubitParams\": { \"name\": \"qubit_gate_us_e4\" },\n",
    "            \"qecScheme\": { \"name\": \"surface_code\" },\n",
    "            \"estimateType\": \"frontier\", # Pareto frontier estimation\n",
    "        },\n",
    "        {\n",
    "            \"error_budget\": 0.333,\n",
    "            \"qubitParams\": { \"name\": \"qubit_maj_ns_e4\" },\n",
    "            \"qecScheme\": { \"name\": \"surface_code\" },\n",
    "            \"estimateType\": \"frontier\", # Pareto frontier estimation\n",
    "        },\n",
    "        {\n",
    "            \"error_budget\": 0.333,\n",
    "            \"qubitParams\": { \"name\": \"qubit_maj_ns_e4\" },\n",
    "            \"qecScheme\": { \"name\": \"floquet_code\" },\n",
    "            \"estimateType\": \"frontier\", # Pareto frontier estimation\n",
    "        },\n",
    "        {\n",
    "            \"error_budget\": 0.333,\n",
    "            \"qubitParams\": { \"name\": \"qubit_maj_ns_e6\" },\n",
    "            \"qecScheme\": { \"name\": \"surface_code\" },\n",
    "            \"estimateType\": \"frontier\", # Pareto frontier estimation\n",
    "        },\n",
    "        {\n",
    "            \"error_budget\": 0.333,\n",
    "            \"qubitParams\": { \"name\": \"qubit_maj_ns_e6\" },\n",
    "            \"qecScheme\": { \"name\": \"floquet_code\" },\n",
    "            \"estimateType\": \"frontier\", # Pareto frontier estimation\n",
    "        }\n",
    "    ]\n",
    ")\n",
    "\n",
    "runNames = [\n",
    "    \"Gate-based µs, 10⁻³\", \"Gate-based µs, 10⁻⁴\",\n",
    "    \"Gate-based ns, 10⁻³\", \"Gate-based ns, 10⁻⁴\",\n",
    "    \"S-Majorana ns, 10⁻⁴\", \"F-Majorana ns, 10⁻⁴\",\n",
    "    \"S-Majorana ns, 10⁻⁶\", \"F-Majorana ns, 10⁻⁶\"\n",
    "]\n",
    "\n",
    "EstimatesOverview(result, runNames=runNames)\n"
   ]
  },
  {
   "cell_type": "code",
   "execution_count": null,
   "metadata": {},
   "outputs": [],
   "source": []
  }
 ],
 "metadata": {
  "kernelspec": {
   "display_name": "Python 3 (ipykernel)",
   "language": "python",
   "name": "python3"
  },
  "language_info": {
   "codemirror_mode": {
    "name": "ipython",
    "version": 3
   },
   "file_extension": ".py",
   "mimetype": "text/x-python",
   "name": "python",
   "nbconvert_exporter": "python",
   "pygments_lexer": "ipython3",
   "version": "3.11.5"
  }
 },
 "nbformat": 4,
 "nbformat_minor": 2
}
